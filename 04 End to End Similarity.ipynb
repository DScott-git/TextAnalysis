{
 "cells": [
  {
   "cell_type": "code",
   "execution_count": 1,
   "metadata": {},
   "outputs": [],
   "source": [
    "from datetime import datetime\n",
    "import pandas as pd\n",
    "import pickle\n",
    "import os\n",
    "\n",
    "from collections import Counter\n",
    "from tabulate import tabulate\n",
    "\n",
    "import spacy\n",
    "\n",
    "from spacy.lang.en import English\n",
    "\n",
    "nlp = spacy.load('en_core_web_lg')\n"
   ]
  },
  {
   "cell_type": "code",
   "execution_count": 2,
   "metadata": {},
   "outputs": [],
   "source": [
    "#!python -m spacy download en_core_web_lg"
   ]
  },
  {
   "cell_type": "code",
   "execution_count": 3,
   "metadata": {},
   "outputs": [
    {
     "data": {
      "text/html": [
       "<div>\n",
       "<style scoped>\n",
       "    .dataframe tbody tr th:only-of-type {\n",
       "        vertical-align: middle;\n",
       "    }\n",
       "\n",
       "    .dataframe tbody tr th {\n",
       "        vertical-align: top;\n",
       "    }\n",
       "\n",
       "    .dataframe thead th {\n",
       "        text-align: right;\n",
       "    }\n",
       "</style>\n",
       "<table border=\"1\" class=\"dataframe\">\n",
       "  <thead>\n",
       "    <tr style=\"text-align: right;\">\n",
       "      <th></th>\n",
       "      <th>filename</th>\n",
       "      <th>president</th>\n",
       "      <th>title</th>\n",
       "      <th>pub_date</th>\n",
       "      <th>speech</th>\n",
       "    </tr>\n",
       "  </thead>\n",
       "  <tbody>\n",
       "    <tr>\n",
       "      <td>0</td>\n",
       "      <td>adams_speeches_000.txt</td>\n",
       "      <td>adams</td>\n",
       "      <td>Special Session Message to Congress</td>\n",
       "      <td>May 16, 1797</td>\n",
       "      <td>The personal inconveniences to the members of ...</td>\n",
       "    </tr>\n",
       "    <tr>\n",
       "      <td>1</td>\n",
       "      <td>adams_speeches_001.txt</td>\n",
       "      <td>adams</td>\n",
       "      <td>Inaugural Address</td>\n",
       "      <td>March 4, 1797</td>\n",
       "      <td>When it was first perceived, in early times, t...</td>\n",
       "    </tr>\n",
       "    <tr>\n",
       "      <td>2</td>\n",
       "      <td>adams_speeches_002.txt</td>\n",
       "      <td>adams</td>\n",
       "      <td>Second Annual Message</td>\n",
       "      <td>December 8, 1798</td>\n",
       "      <td>Gentlemen of the Senate and Gentlemen of the H...</td>\n",
       "    </tr>\n",
       "    <tr>\n",
       "      <td>3</td>\n",
       "      <td>adams_speeches_003.txt</td>\n",
       "      <td>adams</td>\n",
       "      <td>Proclamation of Day of Fasting, Humiliation an...</td>\n",
       "      <td>March 23, 1798</td>\n",
       "      <td>As the safety and prosperity of nations ultima...</td>\n",
       "    </tr>\n",
       "    <tr>\n",
       "      <td>4</td>\n",
       "      <td>adams_speeches_004.txt</td>\n",
       "      <td>adams</td>\n",
       "      <td>Third Annual Message</td>\n",
       "      <td>December 3, 1799</td>\n",
       "      <td>It is with peculiar satisfaction that I meet t...</td>\n",
       "    </tr>\n",
       "  </tbody>\n",
       "</table>\n",
       "</div>"
      ],
      "text/plain": [
       "                 filename president  \\\n",
       "0  adams_speeches_000.txt     adams   \n",
       "1  adams_speeches_001.txt     adams   \n",
       "2  adams_speeches_002.txt     adams   \n",
       "3  adams_speeches_003.txt     adams   \n",
       "4  adams_speeches_004.txt     adams   \n",
       "\n",
       "                                               title          pub_date  \\\n",
       "0                Special Session Message to Congress      May 16, 1797   \n",
       "1                                  Inaugural Address     March 4, 1797   \n",
       "2                              Second Annual Message  December 8, 1798   \n",
       "3  Proclamation of Day of Fasting, Humiliation an...    March 23, 1798   \n",
       "4                               Third Annual Message  December 3, 1799   \n",
       "\n",
       "                                              speech  \n",
       "0  The personal inconveniences to the members of ...  \n",
       "1  When it was first perceived, in early times, t...  \n",
       "2  Gentlemen of the Senate and Gentlemen of the H...  \n",
       "3  As the safety and prosperity of nations ultima...  \n",
       "4  It is with peculiar satisfaction that I meet t...  "
      ]
     },
     "execution_count": 3,
     "metadata": {},
     "output_type": "execute_result"
    }
   ],
   "source": [
    "root_dir = os.getcwd()\n",
    "output_path = os.path.join(root_dir, \"Output\")\n",
    "\n",
    "file_name = os.path.join(output_path,\"president_speeches.pkl\")\n",
    "\n",
    "df = pd.read_pickle(file_name)\n",
    "df.head()"
   ]
  },
  {
   "cell_type": "code",
   "execution_count": 4,
   "metadata": {},
   "outputs": [
    {
     "data": {
      "text/html": [
       "<div>\n",
       "<style scoped>\n",
       "    .dataframe tbody tr th:only-of-type {\n",
       "        vertical-align: middle;\n",
       "    }\n",
       "\n",
       "    .dataframe tbody tr th {\n",
       "        vertical-align: top;\n",
       "    }\n",
       "\n",
       "    .dataframe thead th {\n",
       "        text-align: right;\n",
       "    }\n",
       "</style>\n",
       "<table border=\"1\" class=\"dataframe\">\n",
       "  <thead>\n",
       "    <tr style=\"text-align: right;\">\n",
       "      <th></th>\n",
       "      <th>filename</th>\n",
       "      <th>president</th>\n",
       "      <th>title</th>\n",
       "      <th>pub_date</th>\n",
       "      <th>speech</th>\n",
       "    </tr>\n",
       "  </thead>\n",
       "  <tbody>\n",
       "    <tr>\n",
       "      <td>count</td>\n",
       "      <td>962</td>\n",
       "      <td>962</td>\n",
       "      <td>962</td>\n",
       "      <td>962</td>\n",
       "      <td>962</td>\n",
       "    </tr>\n",
       "    <tr>\n",
       "      <td>unique</td>\n",
       "      <td>962</td>\n",
       "      <td>43</td>\n",
       "      <td>690</td>\n",
       "      <td>948</td>\n",
       "      <td>962</td>\n",
       "    </tr>\n",
       "    <tr>\n",
       "      <td>top</td>\n",
       "      <td>grant_speeches_031.txt</td>\n",
       "      <td>lbjohnson</td>\n",
       "      <td>State of the Union Address</td>\n",
       "      <td>July 22, 1920</td>\n",
       "      <td>Thank you, Governor. Thank you all very much f...</td>\n",
       "    </tr>\n",
       "    <tr>\n",
       "      <td>freq</td>\n",
       "      <td>1</td>\n",
       "      <td>71</td>\n",
       "      <td>40</td>\n",
       "      <td>5</td>\n",
       "      <td>1</td>\n",
       "    </tr>\n",
       "  </tbody>\n",
       "</table>\n",
       "</div>"
      ],
      "text/plain": [
       "                      filename  president                       title  \\\n",
       "count                      962        962                         962   \n",
       "unique                     962         43                         690   \n",
       "top     grant_speeches_031.txt  lbjohnson  State of the Union Address   \n",
       "freq                         1         71                          40   \n",
       "\n",
       "             pub_date                                             speech  \n",
       "count             962                                                962  \n",
       "unique            948                                                962  \n",
       "top     July 22, 1920  Thank you, Governor. Thank you all very much f...  \n",
       "freq                5                                                  1  "
      ]
     },
     "execution_count": 4,
     "metadata": {},
     "output_type": "execute_result"
    }
   ],
   "source": [
    "df.describe()"
   ]
  },
  {
   "cell_type": "code",
   "execution_count": 5,
   "metadata": {},
   "outputs": [
    {
     "name": "stdout",
     "output_type": "stream",
     "text": [
      "There are 925,444 possible combinations from 962 speechs\n"
     ]
    }
   ],
   "source": [
    "print(\"There are {:,} possible combinations from {} speechs\".format( (len(df) * len(df) ), (len(df))))"
   ]
  },
  {
   "cell_type": "code",
   "execution_count": 6,
   "metadata": {},
   "outputs": [
    {
     "name": "stdout",
     "output_type": "stream",
     "text": [
      "Pres           Speech Count\n",
      "-----------  --------------\n",
      "lbjohnson                71\n",
      "reagan                   59\n",
      "fdroosevelt              49\n",
      "obama                    48\n",
      "kennedy                  45\n",
      "clinton                  39\n",
      "gwbush                   39\n",
      "grant                    32\n",
      "wilson                   32\n",
      "cleveland                31\n",
      "johnson                  31\n",
      "hoover                   29\n",
      "jackson                  26\n",
      "polk                     25\n",
      "jefferson                24\n",
      "bush                     23\n",
      "nixon                    23\n",
      "carter                   22\n",
      "madison                  22\n",
      "roosevelt                22\n"
     ]
    }
   ],
   "source": [
    "pres_counter = Counter(df.president)\n",
    "\n",
    "print(tabulate(pres_counter.most_common(20), headers=['Pres', 'Speech Count']))"
   ]
  },
  {
   "cell_type": "code",
   "execution_count": 7,
   "metadata": {},
   "outputs": [
    {
     "name": "stdout",
     "output_type": "stream",
     "text": [
      "Title                         Speech Count\n",
      "--------------------------  --------------\n",
      "State of the Union Address              40\n",
      "First Annual Message                    25\n",
      "Inaugural Address                       22\n",
      "Second Annual Message                   22\n",
      "Third Annual Message                    21\n",
      "Fourth Annual Message                   19\n",
      "First Inaugural Address                 15\n",
      "Second Inaugural Address                15\n",
      "Press Conference                        10\n",
      "Farewell Address                         7\n"
     ]
    }
   ],
   "source": [
    "#who has 'Inaugural'\n",
    "title_counter = Counter(df.title)\n",
    "\n",
    "print(tabulate(title_counter.most_common(10), headers=['Title', 'Speech Count']))"
   ]
  },
  {
   "cell_type": "code",
   "execution_count": 8,
   "metadata": {},
   "outputs": [
    {
     "data": {
      "text/html": [
       "<div>\n",
       "<style scoped>\n",
       "    .dataframe tbody tr th:only-of-type {\n",
       "        vertical-align: middle;\n",
       "    }\n",
       "\n",
       "    .dataframe tbody tr th {\n",
       "        vertical-align: top;\n",
       "    }\n",
       "\n",
       "    .dataframe thead th {\n",
       "        text-align: right;\n",
       "    }\n",
       "</style>\n",
       "<table border=\"1\" class=\"dataframe\">\n",
       "  <thead>\n",
       "    <tr style=\"text-align: right;\">\n",
       "      <th></th>\n",
       "      <th>filename</th>\n",
       "      <th>president</th>\n",
       "      <th>title</th>\n",
       "      <th>pub_date</th>\n",
       "      <th>speech</th>\n",
       "    </tr>\n",
       "  </thead>\n",
       "  <tbody>\n",
       "    <tr>\n",
       "      <td>1</td>\n",
       "      <td>adams_speeches_001.txt</td>\n",
       "      <td>adams</td>\n",
       "      <td>Inaugural Address</td>\n",
       "      <td>March 4, 1797</td>\n",
       "      <td>When it was first perceived, in early times, t...</td>\n",
       "    </tr>\n",
       "    <tr>\n",
       "      <td>23</td>\n",
       "      <td>bharrison_speeches_003.txt</td>\n",
       "      <td>bharrison</td>\n",
       "      <td>Inaugural Address</td>\n",
       "      <td>March 4, 1889</td>\n",
       "      <td>\\nFellow-Citizens:\\n\\nThere is no constitution...</td>\n",
       "    </tr>\n",
       "    <tr>\n",
       "      <td>37</td>\n",
       "      <td>buchanan_speeches_001.txt</td>\n",
       "      <td>buchanan</td>\n",
       "      <td>Inaugural Address</td>\n",
       "      <td>March 4, 1857</td>\n",
       "      <td>\\nFellow-Citizens:\\n\\nI appear before you this...</td>\n",
       "    </tr>\n",
       "    <tr>\n",
       "      <td>51</td>\n",
       "      <td>bush_speeches_001.txt</td>\n",
       "      <td>bush</td>\n",
       "      <td>Inaugural Address</td>\n",
       "      <td>January 20, 1989</td>\n",
       "      <td>Mr. Chief Justice, Mr. President, Vice Preside...</td>\n",
       "    </tr>\n",
       "    <tr>\n",
       "      <td>77</td>\n",
       "      <td>carter_speeches_004.txt</td>\n",
       "      <td>carter</td>\n",
       "      <td>Inaugural Address</td>\n",
       "      <td>January 20, 1977</td>\n",
       "      <td>For myself and for our Nation, I want to thank...</td>\n",
       "    </tr>\n",
       "    <tr>\n",
       "      <td>168</td>\n",
       "      <td>coolidge_speeches_003.txt</td>\n",
       "      <td>coolidge</td>\n",
       "      <td>Inaugural Address</td>\n",
       "      <td>March 4, 1925</td>\n",
       "      <td>\\nMy Countrymen:\\n\\nNo one can contemplate cur...</td>\n",
       "    </tr>\n",
       "    <tr>\n",
       "      <td>253</td>\n",
       "      <td>garfield_speeches_000.txt</td>\n",
       "      <td>garfield</td>\n",
       "      <td>Inaugural Address</td>\n",
       "      <td>March 4, 1881</td>\n",
       "      <td>Fellow-Citizens:\\nWe stand to-day upon an emin...</td>\n",
       "    </tr>\n",
       "    <tr>\n",
       "      <td>325</td>\n",
       "      <td>harding_speeches_000.txt</td>\n",
       "      <td>harding</td>\n",
       "      <td>Inaugural Address</td>\n",
       "      <td>March 4, 1921</td>\n",
       "      <td>\\nMy Countrymen:\\n\\nWhen one surveys the world...</td>\n",
       "    </tr>\n",
       "    <tr>\n",
       "      <td>343</td>\n",
       "      <td>harrison_speeches_000.txt</td>\n",
       "      <td>harrison</td>\n",
       "      <td>Inaugural Address</td>\n",
       "      <td>March 4, 1841</td>\n",
       "      <td>Called from a retirement which I had supposed ...</td>\n",
       "    </tr>\n",
       "    <tr>\n",
       "      <td>346</td>\n",
       "      <td>hayes_speeches_002.txt</td>\n",
       "      <td>hayes</td>\n",
       "      <td>Inaugural Address</td>\n",
       "      <td>March 5, 1877</td>\n",
       "      <td>\\nFellow-Citizens:\\n\\nWe have assembled to rep...</td>\n",
       "    </tr>\n",
       "    <tr>\n",
       "      <td>360</td>\n",
       "      <td>hoover_speeches_000.txt</td>\n",
       "      <td>hoover</td>\n",
       "      <td>Inaugural Address</td>\n",
       "      <td>March 4, 1929</td>\n",
       "      <td>My Countrymen:\\nThis occasion is not alone the...</td>\n",
       "    </tr>\n",
       "    <tr>\n",
       "      <td>470</td>\n",
       "      <td>jqadams_speeches_000.txt</td>\n",
       "      <td>jqadams</td>\n",
       "      <td>Inaugural Address</td>\n",
       "      <td>March 4, 1825</td>\n",
       "      <td>In compliance with an usage coeval with the ex...</td>\n",
       "    </tr>\n",
       "    <tr>\n",
       "      <td>485</td>\n",
       "      <td>kennedy_speeches_007.txt</td>\n",
       "      <td>kennedy</td>\n",
       "      <td>Inaugural Address</td>\n",
       "      <td>January 20, 1961</td>\n",
       "      <td>Vice President Johnson, Mr. Speaker, Mr. Chief...</td>\n",
       "    </tr>\n",
       "    <tr>\n",
       "      <td>544</td>\n",
       "      <td>lbjohnson_speeches_021.txt</td>\n",
       "      <td>lbjohnson</td>\n",
       "      <td>Inaugural Address</td>\n",
       "      <td>January 20, 1965</td>\n",
       "      <td>My fellow countrymen:\\nOn this occasion the oa...</td>\n",
       "    </tr>\n",
       "    <tr>\n",
       "      <td>679</td>\n",
       "      <td>obama_speeches_001.txt</td>\n",
       "      <td>obama</td>\n",
       "      <td>Inaugural Address</td>\n",
       "      <td>January 20, 2009</td>\n",
       "      <td>I stand here today humbled by the task before ...</td>\n",
       "    </tr>\n",
       "    <tr>\n",
       "      <td>727</td>\n",
       "      <td>pierce_speeches_001.txt</td>\n",
       "      <td>pierce</td>\n",
       "      <td>Inaugural Address</td>\n",
       "      <td>March 4, 1853</td>\n",
       "      <td>\\nMy Countrymen:\\n\\nIt a relief to feel that n...</td>\n",
       "    </tr>\n",
       "    <tr>\n",
       "      <td>742</td>\n",
       "      <td>polk_speeches_001.txt</td>\n",
       "      <td>polk</td>\n",
       "      <td>Inaugural Address</td>\n",
       "      <td>March 4, 1845</td>\n",
       "      <td>Fellow citizens: Without solicitation on my pa...</td>\n",
       "    </tr>\n",
       "    <tr>\n",
       "      <td>834</td>\n",
       "      <td>roosevelt_speeches_009.txt</td>\n",
       "      <td>roosevelt</td>\n",
       "      <td>Inaugural Address</td>\n",
       "      <td>March 4, 1905</td>\n",
       "      <td>\\nMy fellow-citizens, no people on earth have ...</td>\n",
       "    </tr>\n",
       "    <tr>\n",
       "      <td>847</td>\n",
       "      <td>taft_speeches_000.txt</td>\n",
       "      <td>taft</td>\n",
       "      <td>Inaugural Address</td>\n",
       "      <td>March 4, 1909</td>\n",
       "      <td>\\nMy Fellow-Citizens: \\n\\nAnyone who has taken...</td>\n",
       "    </tr>\n",
       "    <tr>\n",
       "      <td>860</td>\n",
       "      <td>taylor_speeches_002.txt</td>\n",
       "      <td>taylor</td>\n",
       "      <td>Inaugural Address</td>\n",
       "      <td>March 5, 1849</td>\n",
       "      <td>\\nElected by the American people to the highes...</td>\n",
       "    </tr>\n",
       "    <tr>\n",
       "      <td>876</td>\n",
       "      <td>truman_speeches_014.txt</td>\n",
       "      <td>truman</td>\n",
       "      <td>Inaugural Address</td>\n",
       "      <td>January 20, 1949</td>\n",
       "      <td>Mr. Vice President, Mr. Chief Justice, fellow ...</td>\n",
       "    </tr>\n",
       "    <tr>\n",
       "      <td>900</td>\n",
       "      <td>vanburen_speeches_001.txt</td>\n",
       "      <td>vanburen</td>\n",
       "      <td>Inaugural Address</td>\n",
       "      <td>March 4, 1837</td>\n",
       "      <td>Fellow-Citizens:\\nThe practice of all my prede...</td>\n",
       "    </tr>\n",
       "  </tbody>\n",
       "</table>\n",
       "</div>"
      ],
      "text/plain": [
       "                       filename  president              title  \\\n",
       "1        adams_speeches_001.txt      adams  Inaugural Address   \n",
       "23   bharrison_speeches_003.txt  bharrison  Inaugural Address   \n",
       "37    buchanan_speeches_001.txt   buchanan  Inaugural Address   \n",
       "51        bush_speeches_001.txt       bush  Inaugural Address   \n",
       "77      carter_speeches_004.txt     carter  Inaugural Address   \n",
       "168   coolidge_speeches_003.txt   coolidge  Inaugural Address   \n",
       "253   garfield_speeches_000.txt   garfield  Inaugural Address   \n",
       "325    harding_speeches_000.txt    harding  Inaugural Address   \n",
       "343   harrison_speeches_000.txt   harrison  Inaugural Address   \n",
       "346      hayes_speeches_002.txt      hayes  Inaugural Address   \n",
       "360     hoover_speeches_000.txt     hoover  Inaugural Address   \n",
       "470    jqadams_speeches_000.txt    jqadams  Inaugural Address   \n",
       "485    kennedy_speeches_007.txt    kennedy  Inaugural Address   \n",
       "544  lbjohnson_speeches_021.txt  lbjohnson  Inaugural Address   \n",
       "679      obama_speeches_001.txt      obama  Inaugural Address   \n",
       "727     pierce_speeches_001.txt     pierce  Inaugural Address   \n",
       "742       polk_speeches_001.txt       polk  Inaugural Address   \n",
       "834  roosevelt_speeches_009.txt  roosevelt  Inaugural Address   \n",
       "847       taft_speeches_000.txt       taft  Inaugural Address   \n",
       "860     taylor_speeches_002.txt     taylor  Inaugural Address   \n",
       "876     truman_speeches_014.txt     truman  Inaugural Address   \n",
       "900   vanburen_speeches_001.txt   vanburen  Inaugural Address   \n",
       "\n",
       "             pub_date                                             speech  \n",
       "1       March 4, 1797  When it was first perceived, in early times, t...  \n",
       "23      March 4, 1889  \\nFellow-Citizens:\\n\\nThere is no constitution...  \n",
       "37      March 4, 1857  \\nFellow-Citizens:\\n\\nI appear before you this...  \n",
       "51   January 20, 1989  Mr. Chief Justice, Mr. President, Vice Preside...  \n",
       "77   January 20, 1977  For myself and for our Nation, I want to thank...  \n",
       "168     March 4, 1925  \\nMy Countrymen:\\n\\nNo one can contemplate cur...  \n",
       "253     March 4, 1881  Fellow-Citizens:\\nWe stand to-day upon an emin...  \n",
       "325     March 4, 1921  \\nMy Countrymen:\\n\\nWhen one surveys the world...  \n",
       "343     March 4, 1841  Called from a retirement which I had supposed ...  \n",
       "346     March 5, 1877  \\nFellow-Citizens:\\n\\nWe have assembled to rep...  \n",
       "360     March 4, 1929  My Countrymen:\\nThis occasion is not alone the...  \n",
       "470     March 4, 1825  In compliance with an usage coeval with the ex...  \n",
       "485  January 20, 1961  Vice President Johnson, Mr. Speaker, Mr. Chief...  \n",
       "544  January 20, 1965  My fellow countrymen:\\nOn this occasion the oa...  \n",
       "679  January 20, 2009  I stand here today humbled by the task before ...  \n",
       "727     March 4, 1853  \\nMy Countrymen:\\n\\nIt a relief to feel that n...  \n",
       "742     March 4, 1845  Fellow citizens: Without solicitation on my pa...  \n",
       "834     March 4, 1905  \\nMy fellow-citizens, no people on earth have ...  \n",
       "847     March 4, 1909  \\nMy Fellow-Citizens: \\n\\nAnyone who has taken...  \n",
       "860     March 5, 1849  \\nElected by the American people to the highes...  \n",
       "876  January 20, 1949  Mr. Vice President, Mr. Chief Justice, fellow ...  \n",
       "900     March 4, 1837  Fellow-Citizens:\\nThe practice of all my prede...  "
      ]
     },
     "execution_count": 8,
     "metadata": {},
     "output_type": "execute_result"
    }
   ],
   "source": [
    "df[df.title == 'Inaugural Address']"
   ]
  },
  {
   "cell_type": "code",
   "execution_count": 9,
   "metadata": {},
   "outputs": [],
   "source": [
    "bush_inaug = df[ (df['president'] == 'bush') & (df['title'] == 'Inaugural Address') ][\"speech\"].values[0]\n",
    "\n",
    "obama_inaug = df[ (df['president'] == 'obama') & (df['title'] == 'Inaugural Address') ][\"speech\"].values[0]\n",
    "\n",
    "vanburen_inaug = df[ (df['president'] == 'vanburen') & (df['title'] == 'Inaugural Address') ][\"speech\"].values[0]\n"
   ]
  },
  {
   "cell_type": "code",
   "execution_count": 10,
   "metadata": {},
   "outputs": [],
   "source": [
    "#Get a document that has been through the spacy.\"NLP\" process\n",
    "bush_doc = nlp(bush_inaug)\n",
    "\n",
    "obama_doc = nlp(obama_inaug)\n",
    "\n",
    "vanburen_doc = nlp(vanburen_inaug)"
   ]
  },
  {
   "cell_type": "markdown",
   "metadata": {},
   "source": [
    "#### Question\n",
    "What is the semantic textual similarity between two documents?"
   ]
  },
  {
   "cell_type": "code",
   "execution_count": 11,
   "metadata": {},
   "outputs": [
    {
     "data": {
      "text/plain": [
       "0.99559560656699"
      ]
     },
     "execution_count": 11,
     "metadata": {},
     "output_type": "execute_result"
    }
   ],
   "source": [
    "bush_doc.similarity(obama_doc)"
   ]
  },
  {
   "cell_type": "code",
   "execution_count": 12,
   "metadata": {},
   "outputs": [
    {
     "data": {
      "text/plain": [
       "0.982152854157184"
      ]
     },
     "execution_count": 12,
     "metadata": {},
     "output_type": "execute_result"
    }
   ],
   "source": [
    "bush_doc.similarity(vanburen_doc)"
   ]
  },
  {
   "cell_type": "code",
   "execution_count": 13,
   "metadata": {},
   "outputs": [
    {
     "data": {
      "text/html": [
       "<div>\n",
       "<style scoped>\n",
       "    .dataframe tbody tr th:only-of-type {\n",
       "        vertical-align: middle;\n",
       "    }\n",
       "\n",
       "    .dataframe tbody tr th {\n",
       "        vertical-align: top;\n",
       "    }\n",
       "\n",
       "    .dataframe thead th {\n",
       "        text-align: right;\n",
       "    }\n",
       "</style>\n",
       "<table border=\"1\" class=\"dataframe\">\n",
       "  <thead>\n",
       "    <tr style=\"text-align: right;\">\n",
       "      <th></th>\n",
       "      <th>filename</th>\n",
       "      <th>president</th>\n",
       "      <th>title</th>\n",
       "      <th>pub_date</th>\n",
       "      <th>speech</th>\n",
       "    </tr>\n",
       "  </thead>\n",
       "  <tbody>\n",
       "    <tr>\n",
       "      <td>671</td>\n",
       "      <td>nixon_speeches_016.txt</td>\n",
       "      <td>nixon</td>\n",
       "      <td>Address to the Nation About the Watergate Inve...</td>\n",
       "      <td>August 15, 1973</td>\n",
       "      <td>Good evening:\\nNow that most of the major witn...</td>\n",
       "    </tr>\n",
       "    <tr>\n",
       "      <td>672</td>\n",
       "      <td>nixon_speeches_017.txt</td>\n",
       "      <td>nixon</td>\n",
       "      <td>Address to the Nation About the Watergate Inve...</td>\n",
       "      <td>April 30, 1973</td>\n",
       "      <td>Good evening:\\nI want to talk to you tonight f...</td>\n",
       "    </tr>\n",
       "  </tbody>\n",
       "</table>\n",
       "</div>"
      ],
      "text/plain": [
       "                   filename president  \\\n",
       "671  nixon_speeches_016.txt     nixon   \n",
       "672  nixon_speeches_017.txt     nixon   \n",
       "\n",
       "                                                 title         pub_date  \\\n",
       "671  Address to the Nation About the Watergate Inve...  August 15, 1973   \n",
       "672  Address to the Nation About the Watergate Inve...   April 30, 1973   \n",
       "\n",
       "                                                speech  \n",
       "671  Good evening:\\nNow that most of the major witn...  \n",
       "672  Good evening:\\nI want to talk to you tonight f...  "
      ]
     },
     "execution_count": 13,
     "metadata": {},
     "output_type": "execute_result"
    }
   ],
   "source": [
    "df[df.title == 'Address to the Nation About the Watergate Investigations']"
   ]
  },
  {
   "cell_type": "code",
   "execution_count": 14,
   "metadata": {},
   "outputs": [
    {
     "data": {
      "text/plain": [
       "0.9985841489396466"
      ]
     },
     "execution_count": 14,
     "metadata": {},
     "output_type": "execute_result"
    }
   ],
   "source": [
    "nixon_before = df[ (df['filename'] == 'nixon_speeches_017.txt') ][\"speech\"].values[0] \n",
    "nixon_after = df[ (df['filename'] == 'nixon_speeches_016.txt') ][\"speech\"].values[0]\n",
    "\n",
    "nixon_before_doc = nlp(nixon_before)\n",
    "nixon_after_doc = nlp(nixon_after)\n",
    "\n",
    "nixon_after_doc.similarity(nixon_before_doc)"
   ]
  },
  {
   "cell_type": "code",
   "execution_count": 15,
   "metadata": {},
   "outputs": [
    {
     "data": {
      "text/plain": [
       "0.989283579814654"
      ]
     },
     "execution_count": 15,
     "metadata": {},
     "output_type": "execute_result"
    }
   ],
   "source": [
    "nixon_after_doc.similarity(vanburen_doc)"
   ]
  },
  {
   "cell_type": "markdown",
   "metadata": {},
   "source": [
    "#### Question\n",
    "Where do we go from here?\n",
    "\n",
    "Should we compare every sentence from both speeches?"
   ]
  },
  {
   "cell_type": "code",
   "execution_count": null,
   "metadata": {},
   "outputs": [],
   "source": []
  },
  {
   "cell_type": "code",
   "execution_count": null,
   "metadata": {},
   "outputs": [],
   "source": []
  },
  {
   "cell_type": "code",
   "execution_count": null,
   "metadata": {},
   "outputs": [],
   "source": []
  },
  {
   "cell_type": "code",
   "execution_count": null,
   "metadata": {},
   "outputs": [],
   "source": []
  }
 ],
 "metadata": {
  "kernelspec": {
   "display_name": "Python 3",
   "language": "python",
   "name": "python3"
  },
  "language_info": {
   "codemirror_mode": {
    "name": "ipython",
    "version": 3
   },
   "file_extension": ".py",
   "mimetype": "text/x-python",
   "name": "python",
   "nbconvert_exporter": "python",
   "pygments_lexer": "ipython3",
   "version": "3.7.4"
  }
 },
 "nbformat": 4,
 "nbformat_minor": 2
}
