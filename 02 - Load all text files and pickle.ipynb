{
 "cells": [
  {
   "cell_type": "markdown",
   "metadata": {},
   "source": [
    "# Presidential Speech similarity\n",
    "\n",
    "Data: \n",
    "Brown, D. W. (2016) Corpus of Presidential Speeches. Retrieved from http://www.thegrammarlab.com\n",
    "\n",
    "Data link: http://www.thegrammarlab.com/?nor-portfolio=corpus-of-presidential-speeches-cops-and-a-clintontrump-corpus\n"
   ]
  },
  {
   "cell_type": "code",
   "execution_count": 1,
   "metadata": {},
   "outputs": [],
   "source": [
    "import pandas as pd\n",
    "import os\n",
    "import pickle"
   ]
  },
  {
   "cell_type": "code",
   "execution_count": 2,
   "metadata": {},
   "outputs": [
    {
     "name": "stdout",
     "output_type": "stream",
     "text": [
      "['adams', 'arthur', 'bharrison', 'buchanan', 'bush', 'carter', 'cleveland', 'clinton', 'coolidge', 'eisenhower', 'fdroosevelt', 'fillmore', 'ford', 'garfield', 'grant', 'gwbush', 'harding', 'harrison', 'hayes', 'hoover', 'jackson', 'jefferson', 'johnson', 'jqadams', 'kennedy', 'lbjohnson', 'lincoln', 'madison', 'mckinley', 'monroe', 'nixon', 'obama', 'pierce', 'polk', 'reagan', 'roosevelt', 'taft', 'taylor', 'truman', 'tyler', 'vanburen', 'washington', 'wilson']\n"
     ]
    }
   ],
   "source": [
    "root_dir = os.getcwd()\n",
    "data_path = os.path.join(root_dir, \"Data\\\\Corpus of Presential Speeches\")\n",
    "\n",
    "#these are all the source directories\n",
    "data_dir = os.listdir(data_path)\n",
    "print(data_dir)"
   ]
  },
  {
   "cell_type": "code",
   "execution_count": 3,
   "metadata": {},
   "outputs": [],
   "source": [
    "import re\n",
    "\n",
    "title_regex = re.compile(\"<title=\\\"(.+?)\\\">\")\n",
    "\n",
    "date_regex = re.compile(\"<date=\\\"(.+?)\\\">\")\n",
    "\n",
    "\n",
    "\n",
    "def file_to_df(file_path, president, filename):\n",
    "\n",
    "    text = open(file_path, 'r', encoding=\"utf8\")\n",
    "    \n",
    "    contents =text.read()\n",
    "    \n",
    "    title = re.findall(title_regex, str(contents))\n",
    "    \n",
    "    pub_date = re.findall(date_regex, contents)\n",
    "    \n",
    "    contents = re.sub(title_regex, '', contents)\n",
    "    contents = re.sub(date_regex, '', contents)\n",
    "    contents = re.sub(r'^\\n\\n','',contents)\n",
    "    \n",
    "    df =  pd.DataFrame({'filename': filename, 'president': president, 'title' : title, 'pub_date': pub_date, 'speech': contents})\n",
    "\n",
    "    return df\n",
    "    \n"
   ]
  },
  {
   "cell_type": "code",
   "execution_count": 4,
   "metadata": {},
   "outputs": [
    {
     "data": {
      "text/html": [
       "<div>\n",
       "<style scoped>\n",
       "    .dataframe tbody tr th:only-of-type {\n",
       "        vertical-align: middle;\n",
       "    }\n",
       "\n",
       "    .dataframe tbody tr th {\n",
       "        vertical-align: top;\n",
       "    }\n",
       "\n",
       "    .dataframe thead th {\n",
       "        text-align: right;\n",
       "    }\n",
       "</style>\n",
       "<table border=\"1\" class=\"dataframe\">\n",
       "  <thead>\n",
       "    <tr style=\"text-align: right;\">\n",
       "      <th></th>\n",
       "      <th>filename</th>\n",
       "      <th>president</th>\n",
       "      <th>title</th>\n",
       "      <th>pub_date</th>\n",
       "      <th>speech</th>\n",
       "    </tr>\n",
       "  </thead>\n",
       "  <tbody>\n",
       "    <tr>\n",
       "      <td>0</td>\n",
       "      <td>adams_speeches_000.txt</td>\n",
       "      <td>adams</td>\n",
       "      <td>Special Session Message to Congress</td>\n",
       "      <td>May 16, 1797</td>\n",
       "      <td>The personal inconveniences to the members of ...</td>\n",
       "    </tr>\n",
       "    <tr>\n",
       "      <td>1</td>\n",
       "      <td>adams_speeches_001.txt</td>\n",
       "      <td>adams</td>\n",
       "      <td>Inaugural Address</td>\n",
       "      <td>March 4, 1797</td>\n",
       "      <td>When it was first perceived, in early times, t...</td>\n",
       "    </tr>\n",
       "    <tr>\n",
       "      <td>2</td>\n",
       "      <td>adams_speeches_002.txt</td>\n",
       "      <td>adams</td>\n",
       "      <td>Second Annual Message</td>\n",
       "      <td>December 8, 1798</td>\n",
       "      <td>Gentlemen of the Senate and Gentlemen of the H...</td>\n",
       "    </tr>\n",
       "    <tr>\n",
       "      <td>3</td>\n",
       "      <td>adams_speeches_003.txt</td>\n",
       "      <td>adams</td>\n",
       "      <td>Proclamation of Day of Fasting, Humiliation an...</td>\n",
       "      <td>March 23, 1798</td>\n",
       "      <td>As the safety and prosperity of nations ultima...</td>\n",
       "    </tr>\n",
       "    <tr>\n",
       "      <td>4</td>\n",
       "      <td>adams_speeches_004.txt</td>\n",
       "      <td>adams</td>\n",
       "      <td>Third Annual Message</td>\n",
       "      <td>December 3, 1799</td>\n",
       "      <td>It is with peculiar satisfaction that I meet t...</td>\n",
       "    </tr>\n",
       "  </tbody>\n",
       "</table>\n",
       "</div>"
      ],
      "text/plain": [
       "                 filename president  \\\n",
       "0  adams_speeches_000.txt     adams   \n",
       "1  adams_speeches_001.txt     adams   \n",
       "2  adams_speeches_002.txt     adams   \n",
       "3  adams_speeches_003.txt     adams   \n",
       "4  adams_speeches_004.txt     adams   \n",
       "\n",
       "                                               title          pub_date  \\\n",
       "0                Special Session Message to Congress      May 16, 1797   \n",
       "1                                  Inaugural Address     March 4, 1797   \n",
       "2                              Second Annual Message  December 8, 1798   \n",
       "3  Proclamation of Day of Fasting, Humiliation an...    March 23, 1798   \n",
       "4                               Third Annual Message  December 3, 1799   \n",
       "\n",
       "                                              speech  \n",
       "0  The personal inconveniences to the members of ...  \n",
       "1  When it was first perceived, in early times, t...  \n",
       "2  Gentlemen of the Senate and Gentlemen of the H...  \n",
       "3  As the safety and prosperity of nations ultima...  \n",
       "4  It is with peculiar satisfaction that I meet t...  "
      ]
     },
     "execution_count": 4,
     "metadata": {},
     "output_type": "execute_result"
    }
   ],
   "source": [
    "df = pd.DataFrame()\n",
    "\n",
    "for d in data_dir:\n",
    "    for j,k,f in os.walk((os.path.join(data_path, d))):\n",
    "        for s in f:\n",
    "            df = df.append( file_to_df( (os.path.join(data_path, d, s)), d, s) )\n",
    "\n",
    "df.reset_index(inplace=True, drop=True)\n",
    "df.head()\n"
   ]
  },
  {
   "cell_type": "code",
   "execution_count": 5,
   "metadata": {},
   "outputs": [],
   "source": [
    "root_dir = os.getcwd()\n",
    "output_path = os.path.join(root_dir, \"Output\")\n",
    "\n",
    "file_name = os.path.join(output_path,\"president_speeches.pkl\")\n",
    "\n",
    "df.to_pickle(file_name)"
   ]
  },
  {
   "cell_type": "code",
   "execution_count": null,
   "metadata": {},
   "outputs": [],
   "source": []
  }
 ],
 "metadata": {
  "kernelspec": {
   "display_name": "Python 3",
   "language": "python",
   "name": "python3"
  },
  "language_info": {
   "codemirror_mode": {
    "name": "ipython",
    "version": 3
   },
   "file_extension": ".py",
   "mimetype": "text/x-python",
   "name": "python",
   "nbconvert_exporter": "python",
   "pygments_lexer": "ipython3",
   "version": "3.7.4"
  }
 },
 "nbformat": 4,
 "nbformat_minor": 2
}
